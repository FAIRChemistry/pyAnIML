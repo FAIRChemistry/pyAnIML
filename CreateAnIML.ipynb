{
 "cells": [
  {
   "cell_type": "code",
   "execution_count": 1,
   "metadata": {},
   "outputs": [],
   "source": [
    "from pyaniml import AnIMLDocument, Sample, Parameter, Category, ExperimentStep, Device, IndividualValueSet, Series, SeriesSet"
   ]
  },
  {
   "cell_type": "markdown",
   "metadata": {},
   "source": [
    "# Creating an AnIML document\n",
    "\n",
    "At the beginning an ```AnIMLDocument``` has to be initialized to construct a data report. This step is not mandatory, but can help preservee structure. One can alson start with individual elements and combine them at the end. However it is advised to first initialize and then building the rest."
   ]
  },
  {
   "cell_type": "code",
   "execution_count": 2,
   "metadata": {},
   "outputs": [],
   "source": [
    "animldoc = AnIMLDocument()"
   ]
  },
  {
   "cell_type": "markdown",
   "metadata": {},
   "source": [
    "## Structure of an AnIML document\n",
    "\n",
    "Three types of sets define an AnIML document:\n",
    "\n",
    "* SampleSet: Documentation of all the samples that were part of the experiment.\n",
    "* ExperimentStepSet: This container reflects all necessary processes and results that have been generated.\n",
    "* AuditTrailEntrySet: I have no clue 😁"
   ]
  },
  {
   "cell_type": "markdown",
   "metadata": {},
   "source": [
    "## Setting samples and their properties\n",
    "\n",
    "Samples can be described in a very sparse or detiled way. AnIML does not set any boundaries here, but offers the opportunity to characterize via parameters or categories (container for multiple parameters)"
   ]
  },
  {
   "cell_type": "code",
   "execution_count": 3,
   "metadata": {},
   "outputs": [],
   "source": [
    "# Initialize sample\n",
    "sample_1 = Sample(id=\"S1\", name=\"Sample1\")\n",
    "\n",
    "# Define some parameters\n",
    "param_1 = Parameter(name=\"Param1\", parameter_type=\"Int32\", value=int(10))\n",
    "param_2 = Parameter(name=\"Param2\", parameter_type=\"String\", value=\"Some kind of description\")\n",
    "param_3 = Parameter(name=\"Param3\", parameter_type=\"String\", value=\"I am not part of a category\")\n",
    "\n",
    "# Group these in a category if necessary\n",
    "category = Category(name=\"Specific set of parameters that need to be grouped\", parameters=[param_1, param_2])\n",
    "\n",
    "# Finally, add these to the sample ...\n",
    "sample_1.add_property(category)\n",
    "sample_1.add_property(param_3)\n",
    "\n",
    "# ... and the sample to the document\n",
    "animldoc.add_sample(sample_1)"
   ]
  },
  {
   "cell_type": "markdown",
   "metadata": {},
   "source": [
    "**Quick note**\n",
    "\n",
    "Every object present in the AnIML document can be printed in a dataclass manner or as JSON/XML string. Generally, the library is built on top of the **SoftData** concept, where data models are abstract class models rather than specific formats. This has the consequence, that such a model can live in both JSON and XML formats without specific readers/writers."
   ]
  },
  {
   "cell_type": "code",
   "execution_count": 4,
   "metadata": {},
   "outputs": [
    {
     "name": "stdout",
     "output_type": "stream",
     "text": [
      "<?xml version=\"1.0\" encoding=\"UTF-8\"?>\n",
      "<Sample sampleID=\"S1\" name=\"Sample1\">\n",
      "  <Parameter name=\"Param3\" parameterType=\"String\">\n",
      "    <S>I am not part of a category</S>\n",
      "  </Parameter>\n",
      "  <Category name=\"Specific set of parameters that need to be grouped\">\n",
      "    <Parameter name=\"Param1\" parameterType=\"Int32\">\n",
      "      <I>10</I>\n",
      "    </Parameter>\n",
      "    <Parameter name=\"Param2\" parameterType=\"String\">\n",
      "      <S>Some kind of description</S>\n",
      "    </Parameter>\n",
      "  </Category>\n",
      "</Sample>\n",
      "\n"
     ]
    }
   ],
   "source": [
    "# Inspect the sample!\n",
    "print(sample_1.toXML())"
   ]
  },
  {
   "cell_type": "markdown",
   "metadata": {},
   "source": [
    "## Setting experiment steps\n",
    "\n",
    "Experiment steps are the core of any AnIML document, since they describe the process and results that were gathered in the scope of an experiment. Thus this type of class is much more complex and comprehends the following categories:\n",
    "\n",
    "* Infrastructure: References the samples that have been processed in this step.\n",
    "* Method: General information about the devices and methods used as well as the authors.\n",
    "* Result: Composite class, which holds parameters, series as well as the grouped siblings."
   ]
  },
  {
   "cell_type": "code",
   "execution_count": 5,
   "metadata": {},
   "outputs": [],
   "source": [
    "# Initialize the first experiment step\n",
    "exp_step_1 = ExperimentStep(name=\"First step\", experiment_step_id=\"ES1\")"
   ]
  },
  {
   "cell_type": "markdown",
   "metadata": {},
   "source": [
    "### Infrastructure"
   ]
  },
  {
   "cell_type": "code",
   "execution_count": 6,
   "metadata": {},
   "outputs": [],
   "source": [
    "# Add some infrastructure, lets use the sample we previously defined\n",
    "exp_step_1.add_sample_reference(sample=sample_1, role=\"Shows a reference\", sample_purpose=\"Educational\")"
   ]
  },
  {
   "cell_type": "markdown",
   "metadata": {},
   "source": [
    "### Methods"
   ]
  },
  {
   "cell_type": "code",
   "execution_count": 7,
   "metadata": {},
   "outputs": [],
   "source": [
    "# Lets say we have a method, which has some parameters\n",
    "method_param_1 = Parameter(name=\"Volume control\", parameter_type=\"Int32\", value=int(100))\n",
    "method_param_2 = Parameter(name=\"Program\", parameter_type=\"String\", value=\"Full power!\")\n",
    "method_cat = Category(name=\"Device Setup\", parameters=[method_param_1, method_param_2])\n",
    "\n",
    "# ... and is a physical device\n",
    "device = Device(name=\"Cool device\", firmware_version=\"1.0\", serial_number=\"126656563\")\n",
    "\n",
    "# Finally, add these to the method part\n",
    "exp_step_1.add_method(method_cat)\n",
    "exp_step_1.add_method(device)"
   ]
  },
  {
   "cell_type": "markdown",
   "metadata": {},
   "source": [
    "### Results"
   ]
  },
  {
   "cell_type": "code",
   "execution_count": 8,
   "metadata": {},
   "outputs": [],
   "source": [
    "# Now that methods are defined, lets add our results\n",
    "# It behaves the same as methods but can also take (sets of) series\n",
    "# as elements\n",
    "\n",
    "series_1_values = IndividualValueSet([1.2,2.4,5.6])\n",
    "series_1 = Series(\n",
    "    name=\"Frequency\", id=\"Freq1\", data=series_1_values, data_type=\"Float32\", dependency=\"dependent\", plot_scale=\"none\"\n",
    ")\n",
    "\n",
    "series_2_values = IndividualValueSet([20.2,22.4,53.6])\n",
    "series_2 = Series(\n",
    "    name=\"Amplitude\", id=\"Amp1\", data=series_2_values, data_type=\"Float32\", dependency=\"independet\", plot_scale=\"none\"\n",
    ")\n",
    "\n",
    "series_set = SeriesSet(name=\"Sound output\", series=[series_1, series_2])\n",
    "\n",
    "# Finally, add it to the result section ...\n",
    "exp_step_1.add_result(series_set)\n",
    "\n",
    "# ... and the experiment step to the document\n",
    "animldoc.add_experiment_step(exp_step_1)"
   ]
  },
  {
   "cell_type": "markdown",
   "metadata": {},
   "source": [
    "# Finished!\n",
    "\n",
    "The AnIML document is completely defined and no other steps required other than to call either one of the supported formats to which SoftData can be exported:\n",
    "\n",
    "* XML\n",
    "* JSON\n",
    "* Python Dict"
   ]
  },
  {
   "cell_type": "code",
   "execution_count": 9,
   "metadata": {},
   "outputs": [
    {
     "name": "stdout",
     "output_type": "stream",
     "text": [
      "<?xml version=\"1.0\" encoding=\"UTF-8\"?>\n",
      "<AnIML>\n",
      "  <SampleSet>\n",
      "    <Sample sampleID=\"S1\" name=\"Sample1\">\n",
      "      <Parameter name=\"Param3\" parameterType=\"String\">\n",
      "        <S>I am not part of a category</S>\n",
      "      </Parameter>\n",
      "      <Category name=\"Specific set of parameters that need to be grouped\">\n",
      "        <Parameter name=\"Param1\" parameterType=\"Int32\">\n",
      "          <I>10</I>\n",
      "        </Parameter>\n",
      "        <Parameter name=\"Param2\" parameterType=\"String\">\n",
      "          <S>Some kind of description</S>\n",
      "        </Parameter>\n",
      "      </Category>\n",
      "    </Sample>\n",
      "  </SampleSet>\n",
      "  <ExperimentStepSet>\n",
      "    <ExperimentStep xmlns:xsi=\"http://www.w3.org/2001/XMLSchema-instance\" name=\"First step\" experimentStepID=\"ES1\" xsi:type=\"ExperimentStep\">\n",
      "      <Infrastructure>\n",
      "        <SampleReferenceSet>\n",
      "          <SampleReference sampleID=\"S1\" role=\"Shows a reference\" samplePurpose=\"Educational\"/>\n",
      "        </SampleReferenceSet>\n",
      "      </Infrastructure>\n",
      "      <Method>\n",
      "        <Device>\n",
      "          <Name>Cool device</Name>\n",
      "          <FirmwareVersion>1.0</FirmwareVersion>\n",
      "          <SerialNumber>126656563</SerialNumber>\n",
      "        </Device>\n",
      "        <Category name=\"Device Setup\">\n",
      "          <Parameter name=\"Volume control\" parameterType=\"Int32\">\n",
      "            <I>100</I>\n",
      "          </Parameter>\n",
      "          <Parameter name=\"Program\" parameterType=\"String\">\n",
      "            <S>Full power!</S>\n",
      "          </Parameter>\n",
      "        </Category>\n",
      "      </Method>\n",
      "      <Result>\n",
      "        <SeriesSet name=\"Sound output\">\n",
      "          <Series name=\"Frequency\" seriesID=\"Freq1\" SeriesType=\"Float32\" dependency=\"dependent\" plotScale=\"none\">\n",
      "            <IndividualValueSet>\n",
      "              <F>1.2</F>\n",
      "              <F>2.4</F>\n",
      "              <F>5.6</F>\n",
      "            </IndividualValueSet>\n",
      "          </Series>\n",
      "          <Series name=\"Amplitude\" seriesID=\"Amp1\" SeriesType=\"Float32\" dependency=\"independet\" plotScale=\"none\">\n",
      "            <IndividualValueSet>\n",
      "              <F>20.2</F>\n",
      "              <F>22.4</F>\n",
      "              <F>53.6</F>\n",
      "            </IndividualValueSet>\n",
      "          </Series>\n",
      "        </SeriesSet>\n",
      "      </Result>\n",
      "    </ExperimentStep>\n",
      "  </ExperimentStepSet>\n",
      "  <AuditTrailEntrySet/>\n",
      "</AnIML>\n",
      "\n"
     ]
    }
   ],
   "source": [
    "# Lets look at the XML\n",
    "xml_string = animldoc.toXML()\n",
    "print(xml_string)"
   ]
  }
 ],
 "metadata": {
  "interpreter": {
   "hash": "061c0415761b2a98bc48a04d5937821b4d43b459095301c942b663f6105c810c"
  },
  "kernelspec": {
   "display_name": "Python 3.9.7 64-bit ('softdata': conda)",
   "name": "python3"
  },
  "language_info": {
   "codemirror_mode": {
    "name": "ipython",
    "version": 3
   },
   "file_extension": ".py",
   "mimetype": "text/x-python",
   "name": "python",
   "nbconvert_exporter": "python",
   "pygments_lexer": "ipython3",
   "version": "3.9.7"
  },
  "orig_nbformat": 4
 },
 "nbformat": 4,
 "nbformat_minor": 2
}
